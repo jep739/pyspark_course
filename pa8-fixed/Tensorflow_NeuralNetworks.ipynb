{
 "cells": [
  {
   "cell_type": "markdown",
   "metadata": {
    "nbgrader": {
     "grade": false,
     "grade_id": "cell-158395db1eb13989",
     "locked": true,
     "schema_version": 1,
     "solution": false
    }
   },
   "source": [
    " **<font size=5>Programming Assignment 8: Neural Networks with Tensorflow</font>**"
   ]
  },
  {
   "cell_type": "markdown",
   "metadata": {
    "nbgrader": {
     "grade": false,
     "grade_id": "cell-c303936544fce875",
     "locked": true,
     "schema_version": 1,
     "solution": false
    }
   },
   "source": [
    "## Problem Statement\n",
    "\n",
    "In this programming assignment, you will write Tensorflow code to distinguish between a signal process which produces Higgs bosons and a background process which does not. We model this problem as a binary classification problem. \n",
    "\n",
    "Note: This assignment is not designed to make you a professional Tensorflow programmer, but rather to introduce you to, and make you practice, the basic constructs and functionalities of Tensorflow. "
   ]
  },
  {
   "cell_type": "markdown",
   "metadata": {
    "nbgrader": {
     "grade": false,
     "grade_id": "cell-9cedd227ae71fb17",
     "locked": true,
     "schema_version": 1,
     "solution": false
    }
   },
   "source": [
    "### CPU vs GPU\n",
    "\n",
    "You may want to read [this article](https://www.analyticsvidhya.com/blog/2017/05/gpus-necessary-for-deep-learning/) to know more about the CPU vs GPU discussion. This is totally optional, still highly recommended for those who are interested. \n",
    "\n",
    "You do not need to write any \"GPU specific\" code. Tensorflow automatically recognizes the underlying hardware, and optimizes your code to run accordingly.\n",
    "\n",
    "The most common bottleneck to training faster with a GPU is usually the speed at which data is fed to the GPU for processing. So the input data pipeline is an important construct when writing efficient, scalable code to train Neural networks using Tensorflow."
   ]
  },
  {
   "cell_type": "markdown",
   "metadata": {
    "nbgrader": {
     "grade": false,
     "grade_id": "cell-f87b642b5252980b",
     "locked": true,
     "schema_version": 1,
     "solution": false
    }
   },
   "source": [
    "### Dataset\n",
    "\n",
    "For this assignment, we will use sampled data from a well known dataset: [Higgs Dataset](https://archive.ics.uci.edu/ml/datasets/HIGGS). \n",
    "\n",
    "Some information regarding the data and the problem: \n",
    "\n",
    "This is a classification problem to distinguish between a signal process which produces Higgs bosons and a background process which does not. The data has been produced using Monte Carlo simulations. The first 21 features (columns 2-22) are kinematic properties measured by the particle detectors in the accelerator. The last seven features are functions of the first 21 features; these are high-level features derived by physicists to help discriminate between the two classes."
   ]
  },
  {
   "cell_type": "markdown",
   "metadata": {
    "nbgrader": {
     "grade": false,
     "grade_id": "cell-0f1b9f41248e8378",
     "locked": true,
     "schema_version": 1,
     "solution": false
    }
   },
   "source": [
    "The train and test files have the following characteristics:\n",
    "\n",
    "- The first row is a header that contains a comma-separated list of the names of the label and attributes\n",
    "- Each successive row represents a single example\n",
    "- The first column of each example is the label to be learned, and all other columns are attribute values.\n",
    "- All attributes are numerical i.e. real numbers."
   ]
  },
  {
   "cell_type": "markdown",
   "metadata": {
    "nbgrader": {
     "grade": false,
     "grade_id": "cell-fc620c75541dd80e",
     "locked": true,
     "schema_version": 1,
     "solution": false
    }
   },
   "source": [
    "### Testing and Evaluation\n",
    "\n",
    "\n",
    "For local testing and for two of the three submissions, you will use the small training and test datasets that have been provided along with this notebook. \n",
    "\n",
    "When submitting on EdX, your code will be trained and evaluated on a much larger sample of the full dataset. \n",
    "\n",
    "Some suggestions you should keep in mind while implementing the functions:\n",
    "\n",
    "- Avoid doing repeated work i.e. anything that could be done outside the loop, should be outside.\n",
    "- Read the markdown of this notebook carefully."
   ]
  },
  {
   "cell_type": "markdown",
   "metadata": {
    "nbgrader": {
     "grade": false,
     "grade_id": "cell-6995099148a8d8ee",
     "locked": true,
     "schema_version": 1,
     "solution": false
    }
   },
   "source": [
    "### Configuration File\n",
    "\n",
    "To make your code more robust, and to aid the process of grading your work, most of the required parameters for the network training and testing will come from a [YAML](http://yaml.org/) config file named \"nn_config.yaml\". \n",
    "\n",
    "This file is present in the same directory as the notebook. We have added default values to parameters, but you may modify them for debugging purposes. \n",
    "\n",
    "Information regarding what these variables mean, and how you should use them is present as comments in the yaml file. Information regarding how to read variables from the YAML config file is mentioned later in this notebook.\n",
    "\n",
    "However, remember that for grading your work we will use our own config files. So your code should always refer to variable values from the config file."
   ]
  },
  {
   "cell_type": "code",
   "execution_count": 1,
   "metadata": {
    "ExecuteTime": {
     "end_time": "2018-08-01T17:51:15.619670Z",
     "start_time": "2018-08-01T17:51:15.169042Z"
    },
    "nbgrader": {
     "grade": false,
     "grade_id": "cell-0e011b46c2ce211f",
     "locked": true,
     "schema_version": 1,
     "solution": false
    }
   },
   "outputs": [
    {
     "name": "stdout",
     "output_type": "stream",
     "text": [
      "## Training data file path\n",
      "training_data_path: ./Data/higgs_train_large.csv\n",
      "\n",
      "## Testing data file path\n",
      "test_data_path: ./Data/higgs_test_large.csv \n",
      "\n",
      "## Location in which you will save the pickle file containing predictions on test data\n",
      "output_predictions_pickle_path: ./test_predictions.pkl\n",
      "\n",
      "## How to split the input training data into train and validation sets. Value of 0.8 means that if there were initially 100 training examples in the input data, you should split them such that the first 80 are used as training examples and last 20 should be used for validation.\n",
      "training_to_validation_ratio: 0.8\n",
      "\n",
      "## the learning rate you should use for your optimizer \n",
      "learning_rate: 0.05\n",
      "\n",
      "## the total number of epochs or iterations to run over the (80) training examples\n",
      "epochs: 200\n",
      "\n",
      "## the number of mini batches in which you should split your training examples. Continuing with our example, if this value is 10, then each mini batch will have 8 training examples.\n",
      "num_mini_batches: 5\n",
      "\n",
      "## this variable is for your own use to modify when you would like to print any debug statements inside your training loop. For example, a value of 5 may suggest that you should print the training loss, validation loss, training accuracy and validation accuracy every 5 epochs.\n",
      "display_step: 1\n",
      "\n",
      "## the size of the network. If first_layer: 20 and second_layer: 8 then you should set the number of hidden units in first hidden layer and second layer to be 20 and 8 respectively.\n",
      "hidden_layer_sizes: \n",
      "    first_layer: 20\n",
      "    second_layer: 8\n",
      "\n",
      "## for grading purposes, you may ignore\n",
      "dataset_size: large\n",
      "grading_script_path: ./Data/grade_test_submission.py"
     ]
    }
   ],
   "source": [
    "# Let's look at the contents of the YAML config file\n",
    "!cat Data/nn_config.yaml "
   ]
  },
  {
   "cell_type": "markdown",
   "metadata": {
    "nbgrader": {
     "grade": false,
     "grade_id": "cell-4a4e23526701b920",
     "locked": true,
     "schema_version": 1,
     "solution": false
    }
   },
   "source": [
    "## Gameplan\n",
    "\n",
    "You will write robust code that builds a feedforward neural network, and trains it according to the given set of parameters.\n",
    "\n",
    "1. We will first load the training and test data using the parameters from the config file.\n",
    "2. We will then split the training data into training and validation sets using the value of \"training_to_validation_ratio\" parameter in the config. \n",
    "    For example, if the param is 0.8, it means that the initial 80% of the data should be kept for training, while the rest 20% should be used for validation.\n",
    "3. We will use Cross Entropy Loss as our cost functions and minimize it using AdamOptimizer as our optimizer.\n",
    "4. We will train our model in batches inside our main training loop. You will divide the training data into `num_batches` number of mini batches and for each epoch you will iterate and train over those many number of batches.\n",
    "5. You can use \"display_step\" param to control the frequency of print statements.\n",
    "6. You will maintain a list of training accuracies and losses (one value for each epoch).\n",
    "7. You will maintain a list of validation accuracy and loss (one value for each epoch)."
   ]
  },
  {
   "cell_type": "markdown",
   "metadata": {
    "nbgrader": {
     "grade": false,
     "grade_id": "cell-c5dc5f0d1795d09a",
     "locked": true,
     "schema_version": 1,
     "solution": false
    }
   },
   "source": [
    "\n",
    "    The function tf.reduce_sum will allow you to sum across all instances.\n",
    "    "
   ]
  },
  {
   "cell_type": "markdown",
   "metadata": {
    "nbgrader": {
     "grade": false,
     "grade_id": "cell-2952f5d422d0d1e7",
     "locked": true,
     "schema_version": 1,
     "solution": false
    }
   },
   "source": [
    "5) You should train your network using your inputted learning rate and for the inputted number of iterations. The iterations are simply a loop that calls Backpropagation a fixed number of times."
   ]
  },
  {
   "cell_type": "markdown",
   "metadata": {},
   "source": [
    "## Initialization "
   ]
  },
  {
   "cell_type": "code",
   "execution_count": 2,
   "metadata": {
    "ExecuteTime": {
     "end_time": "2018-08-01T17:51:15.629488Z",
     "start_time": "2018-08-01T17:51:15.622808Z"
    },
    "nbgrader": {
     "grade": false,
     "grade_id": "cell-9c01b1c216ee0572",
     "locked": true,
     "schema_version": 1,
     "solution": false
    }
   },
   "outputs": [],
   "source": [
    "## Tensorflow produces a lot of warnings. We generally want to suppress them. The below code does exactly that. \n",
    "import warnings\n",
    "warnings.filterwarnings('ignore')"
   ]
  },
  {
   "cell_type": "code",
   "execution_count": 3,
   "metadata": {
    "ExecuteTime": {
     "end_time": "2018-08-01T17:51:15.639109Z",
     "start_time": "2018-08-01T17:51:15.632354Z"
    },
    "nbgrader": {
     "grade": false,
     "grade_id": "cell-a554a48f73f64b13",
     "locked": true,
     "schema_version": 1,
     "solution": false
    }
   },
   "outputs": [],
   "source": [
    "import tensorflow as tf\n",
    "import numpy as np\n",
    "from matplotlib import pyplot as plt\n",
    "\n",
    "## Pretty Print\n",
    "import pprint as pp"
   ]
  },
  {
   "cell_type": "code",
   "execution_count": 4,
   "metadata": {
    "ExecuteTime": {
     "end_time": "2018-08-01T17:51:15.650484Z",
     "start_time": "2018-08-01T17:51:15.641657Z"
    },
    "nbgrader": {
     "grade": false,
     "grade_id": "cell-d1e7a22edc0fe397",
     "locked": true,
     "schema_version": 1,
     "solution": false
    }
   },
   "outputs": [],
   "source": [
    "import yaml\n",
    "def import_config():\n",
    "    with open(\"./Data/nn_config.yaml\", 'r') as ymlfile:\n",
    "        try:\n",
    "            cfg = yaml.load(ymlfile)\n",
    "        except yaml.YAMLError as err:\n",
    "            print(err)\n",
    "    return cfg"
   ]
  },
  {
   "cell_type": "code",
   "execution_count": 5,
   "metadata": {
    "ExecuteTime": {
     "end_time": "2018-08-01T17:51:15.673634Z",
     "start_time": "2018-08-01T17:51:15.654284Z"
    },
    "nbgrader": {
     "grade": false,
     "grade_id": "cell-fbb7c3cab0be00a7",
     "locked": true,
     "schema_version": 1,
     "solution": false
    }
   },
   "outputs": [
    {
     "name": "stdout",
     "output_type": "stream",
     "text": [
      "Your hardware either does not have a GPU or is not configured to use the GPU version of TF.\n",
      "        However, you do not need a GPU for this assignment as you will be completing this assigment on a\n",
      "        CPU enviroment, but evaluating it on a GPU enviroment.\n"
     ]
    }
   ],
   "source": [
    "if 'session' in locals() and session is not None:\n",
    "    print('Close interactive session')\n",
    "    session.close()\n",
    "\n",
    "config = tf.ConfigProto()\n",
    "config.gpu_options.allow_growth = True                    # Dynamically grow the memory used on the GPU\n",
    "session = tf.Session(config=config)\n",
    "    \n",
    "## The below function tests if Tensorflow has access to GPU or not.\n",
    "def test_cpu_gpu():\n",
    "    if tf.test.gpu_device_name():\n",
    "        print('Default GPU Device: {}'.format(tf.test.gpu_device_name()))\n",
    "    else:\n",
    "        print('''Your hardware either does not have a GPU or is not configured to use the GPU version of TF.\n",
    "        However, you do not need a GPU for this assignment as you will be completing this assigment on a\n",
    "        CPU enviroment, but evaluating it on a GPU enviroment.''')\n",
    "        \n",
    "test_cpu_gpu()"
   ]
  },
  {
   "cell_type": "code",
   "execution_count": 6,
   "metadata": {
    "ExecuteTime": {
     "end_time": "2018-08-01T17:51:15.696436Z",
     "start_time": "2018-08-01T17:51:15.676119Z"
    },
    "nbgrader": {
     "grade": false,
     "grade_id": "cell-4a59bb5add2fa75d",
     "locked": true,
     "schema_version": 1,
     "solution": false
    }
   },
   "outputs": [
    {
     "name": "stdout",
     "output_type": "stream",
     "text": [
      "{'dataset_size': 'large',\n",
      " 'display_step': 1,\n",
      " 'epochs': 200,\n",
      " 'grading_script_path': './Data/grade_test_submission.py',\n",
      " 'hidden_layer_sizes': {'first_layer': 20, 'second_layer': 8},\n",
      " 'learning_rate': 0.05,\n",
      " 'num_mini_batches': 5,\n",
      " 'output_predictions_pickle_path': './test_predictions.pkl',\n",
      " 'test_data_path': './Data/higgs_test_large.csv',\n",
      " 'training_data_path': './Data/higgs_train_large.csv',\n",
      " 'training_to_validation_ratio': 0.8}\n"
     ]
    }
   ],
   "source": [
    "cfg = import_config()\n",
    "\n",
    "## Is it loaded correctly?\n",
    "pp.pprint(cfg)"
   ]
  },
  {
   "cell_type": "markdown",
   "metadata": {},
   "source": [
    "## Reading in Data "
   ]
  },
  {
   "cell_type": "code",
   "execution_count": 7,
   "metadata": {
    "ExecuteTime": {
     "end_time": "2018-08-01T17:51:15.704856Z",
     "start_time": "2018-08-01T17:51:15.698749Z"
    },
    "nbgrader": {
     "grade": false,
     "grade_id": "cell-855db077a3fa0f0b",
     "locked": true,
     "schema_version": 1,
     "solution": false
    }
   },
   "outputs": [],
   "source": [
    "train_file_name = cfg['training_data_path']\n",
    "test_file_name = cfg['test_data_path']"
   ]
  },
  {
   "cell_type": "code",
   "execution_count": 8,
   "metadata": {
    "ExecuteTime": {
     "end_time": "2018-08-01T17:51:15.712989Z",
     "start_time": "2018-08-01T17:51:15.707431Z"
    }
   },
   "outputs": [],
   "source": [
    "# =========================================================================================== #\n",
    "# Uncomment this to test on smaller dataset. This is faster and can be used to debug quickly. #\n",
    "# PLEASE COMMENT THIS BEFORE SUBMITTING. YOUR NOTEBOOK IS EVALUATED ON LARGE DATASET.         #\n",
    "# =========================================================================================== #\n",
    "\n",
    "train_file_name = './Data/higgs_train_small.csv'\n",
    "test_file_name = './Data/higgs_test_small.csv'"
   ]
  },
  {
   "cell_type": "code",
   "execution_count": 9,
   "metadata": {
    "ExecuteTime": {
     "end_time": "2018-08-01T17:51:51.737282Z",
     "start_time": "2018-08-01T17:51:15.715730Z"
    },
    "nbgrader": {
     "grade": false,
     "grade_id": "cell-a6fc5a4686fa8347",
     "locked": true,
     "schema_version": 1,
     "solution": false
    }
   },
   "outputs": [],
   "source": [
    "## Loading the Data\n",
    "training_data = np.loadtxt(train_file_name, delimiter = ',')\n",
    "test_data = np.loadtxt(test_file_name, delimiter = ',')"
   ]
  },
  {
   "cell_type": "markdown",
   "metadata": {
    "nbgrader": {
     "grade": false,
     "grade_id": "cell-f6ae15f9a3523674",
     "locked": true,
     "schema_version": 1,
     "solution": false
    }
   },
   "source": [
    "Now we have loaded the training and test data. However, we cannot use it directly. We first need to standardize it."
   ]
  },
  {
   "cell_type": "markdown",
   "metadata": {
    "nbgrader": {
     "grade": false,
     "grade_id": "cell-bb592faa9bc02c71",
     "locked": true,
     "schema_version": 1,
     "solution": false
    }
   },
   "source": [
    "### Exercise: Implement the Standardize Function \n",
    "\n",
    "Neural networks work best when all features roughly are on the same scale and are centered around the mean.\n",
    "\n",
    "This is done by standardizing the feature vectors. Feature standardization makes the values of each feature in the data have zero-mean (when subtracting the mean in the numerator) and unit-variance.\n",
    "\n",
    "The function <font color=\"blue\">standardize</font> takes the input data and determines the distribution mean and standard deviation for each feature. Next the mean is subtracted from each feature. Then the mean-subtracted values of each feature are divided by its standard deviation.\n",
    "\n",
    "**<font color=\"magenta\" size=2>Example Input</font>**\n",
    "There are 3 training examples with 4 features each \n",
    "``` python\n",
    "np.array([[-0.22 -0.19 -0.17 -0.13][-0.1 -0.05 0.02 0.10][0.03 0.11 0.12 0.15]])\n",
    "```\n",
    "\n",
    "**<font color=\"blue\" size=2>Example Output</font>**\n",
    "There are 3 training examples (which have been standardized) along each of the 4 features\n",
    "``` python\n",
    "array([[-1.20809282, -1.19664225, -1.33025759, -1.39425471],\n",
    "       [-0.03265116, -0.05439283,  0.2494233 ,  0.4920899 ],\n",
    "       [ 1.24074398,  1.25103507,  1.08083429,  0.90216481]])\n",
    "```\n",
    "\n",
    "Refer the \"Standardization\" section of this [Wikipedia Feature Scaling Article](https://en.wikipedia.org/wiki/Feature_scaling)."
   ]
  },
  {
   "cell_type": "code",
   "execution_count": 28,
   "metadata": {
    "ExecuteTime": {
     "end_time": "2018-08-01T17:51:51.745009Z",
     "start_time": "2018-08-01T17:51:51.739286Z"
    },
    "nbgrader": {
     "grade": false,
     "grade_id": "cell-305b411920b596a3",
     "locked": false,
     "schema_version": 1,
     "solution": true
    }
   },
   "outputs": [],
   "source": [
    "def standardize(data):\n",
    "    mean = data.mean(axis=0,keepdims=True)\n",
    "    std = data.std(axis=0,keepdims=True)\n",
    "    return (data-mean)/std\n"
   ]
  },
  {
   "cell_type": "code",
   "execution_count": 29,
   "metadata": {
    "ExecuteTime": {
     "end_time": "2018-08-01T17:51:51.764296Z",
     "start_time": "2018-08-01T17:51:51.747302Z"
    },
    "nbgrader": {
     "grade": true,
     "grade_id": "standardize_vt",
     "locked": true,
     "points": "5",
     "schema_version": 1,
     "solution": false
    },
    "scrolled": true
   },
   "outputs": [],
   "source": [
    "dummy = np.array([[-0.22, -0.19, -0.17, -0.13],[-0.1, -0.05, 0.02, 0.10],[0.03, 0.11, 0.12, 0.15]])\n",
    "assert standardize(dummy).__class__ == np.ndarray, \"should return numpy array\"\n",
    "assert standardize(dummy).shape == dummy.shape, \"should have the same shape as the input array\"\n",
    "\n",
    "dummy_ans = np.round(np.array([[-1.20809282, -1.19664225, -1.33025759, -1.39425471],\n",
    "       [-0.03265116, -0.05439283,  0.2494233 ,  0.4920899 ],\n",
    "       [ 1.24074398,  1.25103507,  1.08083429,  0.90216481]]),3)\n",
    "assert (np.round(standardize(dummy)[0],3)==dummy_ans[0]).all(), \"check for correct return value failed\"\n",
    "assert (np.round(standardize(dummy)[2],3)==dummy_ans[2]).all(), \"check for correct return value failed\"\n",
    "del dummy, dummy_ans"
   ]
  },
  {
   "cell_type": "code",
   "execution_count": 21,
   "metadata": {
    "ExecuteTime": {
     "end_time": "2018-08-01T17:51:51.771733Z",
     "start_time": "2018-08-01T17:51:51.767279Z"
    },
    "nbgrader": {
     "grade": true,
     "grade_id": "standardize_ht",
     "locked": true,
     "points": "10",
     "schema_version": 1,
     "solution": false
    },
    "scrolled": true
   },
   "outputs": [],
   "source": [
    "# Hidden Tests Here\n",
    "\n",
    "#\n",
    "# AUTOGRADER TEST - DO NOT REMOVE\n",
    "#\n"
   ]
  },
  {
   "cell_type": "markdown",
   "metadata": {
    "nbgrader": {
     "grade": false,
     "grade_id": "cell-6d1d2ce4cf36f9c1",
     "locked": true,
     "schema_version": 1,
     "solution": false
    }
   },
   "source": [
    "### Exercise: Implement the parse_training_data function\n",
    "\n",
    "The function <font color=\"blue\">parse_training_data</font> takes the input data and returns labels and features. \n",
    "\n",
    "Remember that the first column of the training data is the labels, and the remaining columns are the features\n",
    "\n",
    "The labels should be reshaped to a 2-D numpy matrix of shape (dataset_size, 1)\n",
    "The features should be standardized and have be a 2-D numpy matrix of shape (dataset_size, 28)\n",
    "\n",
    "**<font color=\"magenta\" size=2>Example Input</font>**\n",
    "There are 3 training examples with the label and 3 features each \n",
    "``` python\n",
    "np.array([[1 -0.19 -0.17 -0.13][0 -0.05 0.02 0.10][0 0.11 0.12 0.15]])\n",
    "```\n",
    "\n",
    "**<font color=\"blue\" size=2>Example Output</font>**\n",
    "Returns a tuple:\n",
    "    1st element is the labels\n",
    "    2nd element is the standardized features\n",
    "``` python\n",
    "(array([[1.],\n",
    "        [0.],\n",
    "        [1.]]), array([[-1.4688735 , -1.3105518 , -0.99390842],\n",
    "        [-0.36062164,  0.19350429,  0.82679107],\n",
    "        [ 0.90595192,  0.98511277,  1.22259531]]))\n",
    "```\n",
    "\n",
    "\n",
    "Remember to use the standardize function appropriately inside this function and use the visible assert statements to finetune the shape of your returned data."
   ]
  },
  {
   "cell_type": "code",
   "execution_count": 42,
   "metadata": {
    "ExecuteTime": {
     "end_time": "2018-08-01T17:51:51.781357Z",
     "start_time": "2018-08-01T17:51:51.774327Z"
    },
    "nbgrader": {
     "grade": false,
     "grade_id": "cell-b74473c65b9d3782",
     "locked": false,
     "schema_version": 1,
     "solution": true
    }
   },
   "outputs": [],
   "source": [
    "def parse_training_data(numpy_matrix):\n",
    "    labels = numpy_matrix[:,0:1]\n",
    "    features = standardize(numpy_matrix[:,1:])\n",
    "    \n",
    "    return labels, features"
   ]
  },
  {
   "cell_type": "code",
   "execution_count": 43,
   "metadata": {
    "ExecuteTime": {
     "end_time": "2018-08-01T17:51:52.351974Z",
     "start_time": "2018-08-01T17:51:51.784597Z"
    },
    "nbgrader": {
     "grade": false,
     "grade_id": "cell-f0e069072154f863",
     "locked": true,
     "schema_version": 1,
     "solution": false
    }
   },
   "outputs": [],
   "source": [
    "# Parse Training Data. You will later split the `labels` and `features` into training and validation sets.\n",
    "labels, features = parse_training_data(training_data)"
   ]
  },
  {
   "cell_type": "code",
   "execution_count": 47,
   "metadata": {
    "ExecuteTime": {
     "end_time": "2018-08-01T17:51:52.357168Z",
     "start_time": "2018-08-01T17:51:52.354106Z"
    },
    "nbgrader": {
     "grade": true,
     "grade_id": "shape_v",
     "locked": true,
     "points": "5",
     "schema_version": 1,
     "solution": false
    }
   },
   "outputs": [],
   "source": [
    "assert labels.shape[1] == 1\n",
    "assert features.shape[1] == 28"
   ]
  },
  {
   "cell_type": "code",
   "execution_count": 25,
   "metadata": {
    "ExecuteTime": {
     "end_time": "2018-08-01T17:51:52.363953Z",
     "start_time": "2018-08-01T17:51:52.360316Z"
    },
    "nbgrader": {
     "grade": true,
     "grade_id": "values_h",
     "locked": true,
     "points": "10",
     "schema_version": 1,
     "solution": false
    }
   },
   "outputs": [],
   "source": [
    "#\n",
    "# AUTOGRADER TEST - DO NOT REMOVE\n",
    "#\n"
   ]
  },
  {
   "cell_type": "markdown",
   "metadata": {
    "nbgrader": {
     "grade": false,
     "grade_id": "cell-714a63065a14a65f",
     "locked": true,
     "schema_version": 1,
     "solution": false
    }
   },
   "source": [
    "### Exercise: Implement the parse_test_data function\n",
    "\n",
    "The function <font color=\"blue\">parse_test_data</font> takes the input data and returns labels and features. \n",
    "\n",
    "We do not have access to labels while predicting the classes that our test examples belong to. The input data files for the test data would not have the labels column. \n",
    "\n",
    "So we need a different function to parse the test data. This should only return standardized features.\n",
    "\n",
    "The features should be standardized and have be a 2-D numpy matrix of shape (dataset_size, 28)\n",
    "\n",
    "**<font color=\"magenta\" size=2>Example Input</font>**\n",
    "There are 3 training examples with the label and 3 features each \n",
    "``` python\n",
    "np.array([[-0.19 -0.17 -0.13][-0.05 0.02 0.10][0.11 0.12 0.15]])\n",
    "```\n",
    "\n",
    "**<font color=\"blue\" size=2>Example Output</font>**\n",
    "Returns a tuple:\n",
    "    1st element is the labels\n",
    "    2nd element is the standardized features\n",
    "``` python\n",
    "array([[-1.4688735 , -1.3105518 , -0.99390842],\n",
    "        [-0.36062164,  0.19350429,  0.82679107],\n",
    "        [ 0.90595192,  0.98511277,  1.22259531]])\n",
    "```\n",
    "\n",
    "\n",
    "Remember to use the standardize function appropriately inside this function."
   ]
  },
  {
   "cell_type": "code",
   "execution_count": 49,
   "metadata": {
    "ExecuteTime": {
     "end_time": "2018-08-01T17:51:52.372998Z",
     "start_time": "2018-08-01T17:51:52.367115Z"
    },
    "nbgrader": {
     "grade": false,
     "grade_id": "cell-cd58458c52559f0a",
     "locked": false,
     "schema_version": 1,
     "solution": true
    }
   },
   "outputs": [],
   "source": [
    "def parse_test_data(numpy_matrix):\n",
    "    test_features = standardize(numpy_matrix)\n",
    "    \n",
    "    return test_features"
   ]
  },
  {
   "cell_type": "code",
   "execution_count": 50,
   "metadata": {
    "ExecuteTime": {
     "end_time": "2018-08-01T17:51:52.481851Z",
     "start_time": "2018-08-01T17:51:52.376333Z"
    },
    "nbgrader": {
     "grade": false,
     "grade_id": "cell-febfb665f2f27e1e",
     "locked": true,
     "schema_version": 1,
     "solution": false
    }
   },
   "outputs": [],
   "source": [
    "test_features = parse_test_data(test_data)"
   ]
  },
  {
   "cell_type": "code",
   "execution_count": 51,
   "metadata": {},
   "outputs": [
    {
     "data": {
      "text/plain": [
       "(2000, 28)"
      ]
     },
     "execution_count": 51,
     "metadata": {},
     "output_type": "execute_result"
    }
   ],
   "source": [
    "test_features.shape"
   ]
  },
  {
   "cell_type": "markdown",
   "metadata": {
    "nbgrader": {
     "grade": false,
     "grade_id": "cell-0de20ca899b3afe6",
     "locked": true,
     "schema_version": 1,
     "solution": false
    }
   },
   "source": [
    "## Building the Neural Network "
   ]
  },
  {
   "cell_type": "markdown",
   "metadata": {
    "nbgrader": {
     "grade": false,
     "grade_id": "cell-6b3f768be0607ffd",
     "locked": true,
     "schema_version": 1,
     "solution": false
    }
   },
   "source": [
    "### Initializing important parameters\n",
    "Use the below params appropriately inside the train_nn() function. We have initialized these variables in order to assist you in your implementation."
   ]
  },
  {
   "cell_type": "code",
   "execution_count": 52,
   "metadata": {
    "ExecuteTime": {
     "end_time": "2018-08-01T17:51:52.500886Z",
     "start_time": "2018-08-01T17:51:52.484175Z"
    },
    "nbgrader": {
     "grade": false,
     "grade_id": "cell-9496cea12852d1fa",
     "locked": true,
     "schema_version": 1,
     "solution": false
    }
   },
   "outputs": [
    {
     "name": "stdout",
     "output_type": "stream",
     "text": [
      "Total Training examples: 8000, Number of Batches: 5, Batch Size: 1600\n"
     ]
    }
   ],
   "source": [
    "learning_rate = cfg['learning_rate']\n",
    "training_epochs = cfg['epochs']\n",
    "train_valid_split = cfg['training_to_validation_ratio']\n",
    "num_batches = cfg['num_mini_batches']\n",
    "display_step = cfg['display_step']\n",
    "\n",
    "num_examples= training_data.shape[0]\n",
    "\n",
    "# The first `num_train_examples` should be used for training, the rest for validation.\n",
    "num_train_examples = int(num_examples * train_valid_split)\n",
    "\n",
    "batch_size = num_train_examples/num_batches\n",
    "\n",
    "\n",
    "# Network Parameters\n",
    "n_hidden_1 = cfg['hidden_layer_sizes']['first_layer'] # 1st layer number of features\n",
    "n_hidden_2 = cfg['hidden_layer_sizes']['second_layer'] # 2nd layer number of features\n",
    "n_input = 28 \n",
    "n_classes = 1 \n",
    "\n",
    "\n",
    "print(\"Total Training examples: %d, Number of Batches: %d, Batch Size: %d\" %(num_train_examples,num_batches,batch_size))"
   ]
  },
  {
   "cell_type": "markdown",
   "metadata": {
    "nbgrader": {
     "grade": false,
     "grade_id": "cell-dc994f1830e0a244",
     "locked": true,
     "schema_version": 1,
     "solution": false
    }
   },
   "source": [
    "### Initializing placeholders for feeding into the TF graph\n",
    "\n",
    "Define the TF placeholders which will receive data for each mini batch. Similarly define weights and biases as TF variables "
   ]
  },
  {
   "cell_type": "code",
   "execution_count": 125,
   "metadata": {},
   "outputs": [],
   "source": [
    "tf.reset_default_graph()"
   ]
  },
  {
   "cell_type": "code",
   "execution_count": 126,
   "metadata": {
    "ExecuteTime": {
     "end_time": "2018-08-01T17:51:52.557068Z",
     "start_time": "2018-08-01T17:51:52.502745Z"
    },
    "nbgrader": {
     "grade": false,
     "grade_id": "cell-47aa2936b36e30b8",
     "locked": true,
     "schema_version": 1,
     "solution": false
    }
   },
   "outputs": [],
   "source": [
    "# TF Graph input\n",
    "## Use the below placeholders appropriately inside the train_nn() function\n",
    "\n",
    "x = tf.placeholder(\"float\", [None, n_input])\n",
    "y = tf.placeholder(\"float\", [None, 1])\n",
    "\n",
    "\n",
    "# Store layers weight & bias\n",
    "weights = {\n",
    "    'h1': tf.Variable(tf.random_normal([n_input, n_hidden_1])),\n",
    "    'h2': tf.Variable(tf.random_normal([n_hidden_1, n_hidden_2])),\n",
    "    'out': tf.Variable(tf.random_normal([n_hidden_2, n_classes]))\n",
    "}\n",
    "\n",
    "biases = {\n",
    "    'b1': tf.Variable(tf.random_normal([n_hidden_1])),\n",
    "    'b2': tf.Variable(tf.random_normal([n_hidden_2])),\n",
    "    'out': tf.Variable(tf.random_normal([n_classes]))\n",
    "}"
   ]
  },
  {
   "cell_type": "markdown",
   "metadata": {
    "nbgrader": {
     "grade": false,
     "grade_id": "cell-714a63065a14a6sd5f",
     "locked": true,
     "schema_version": 1,
     "solution": false
    }
   },
   "source": [
    "### Exercise: Implement the `calc_num_total_learnable_params` function.\n",
    "\n",
    "This function  calculates the number of learnable parameters of the network model. This number directly relates to the complexity of your model, as well as the training time. \n",
    "\n",
    "The function <font color=\"blue\">calc_num_total_learnable_params</font> takes the weights dictionary and bias dictionary and returns an integer which is equal to the number of total parameters in the network. \n",
    "\n",
    "You can make use of the `get_dims_as_tuple` as a helper function to access the shape of the weight and bias matrices easily."
   ]
  },
  {
   "cell_type": "code",
   "execution_count": 127,
   "metadata": {
    "ExecuteTime": {
     "end_time": "2018-08-01T17:51:52.574462Z",
     "start_time": "2018-08-01T17:51:52.559079Z"
    },
    "nbgrader": {
     "grade": false,
     "grade_id": "cell-bb3e6250332e0033",
     "locked": true,
     "schema_version": 1,
     "solution": false
    }
   },
   "outputs": [
    {
     "data": {
      "text/plain": [
       "(28, 20)"
      ]
     },
     "execution_count": 127,
     "metadata": {},
     "output_type": "execute_result"
    }
   ],
   "source": [
    "# Helper function which you may use in implementing `calc_num_total_learnable_params(weights,biases)` function below.\n",
    "def get_dims_as_tuple(x):\n",
    "    shape = x.get_shape()\n",
    "    dims = []\n",
    "    for dim in shape:\n",
    "        dims.append(dim.value)\n",
    "    return tuple(dims)\n",
    "\n",
    "# example usage:\n",
    "get_dims_as_tuple(weights['h1'])"
   ]
  },
  {
   "cell_type": "code",
   "execution_count": 128,
   "metadata": {
    "ExecuteTime": {
     "end_time": "2018-08-01T17:51:52.589681Z",
     "start_time": "2018-08-01T17:51:52.577038Z"
    },
    "nbgrader": {
     "grade": false,
     "grade_id": "cell-94e7366afdd6358a",
     "locked": false,
     "schema_version": 1,
     "solution": true
    }
   },
   "outputs": [],
   "source": [
    "def calc_num_total_learnable_params(weights,biases):\n",
    "    num_total = 0\n",
    "    for w in weights:\n",
    "        num_total += w.size\n",
    "    for b in biases:\n",
    "        num_total += b.size\n",
    "    return num_total"
   ]
  },
  {
   "cell_type": "code",
   "execution_count": 129,
   "metadata": {
    "nbgrader": {
     "grade": true,
     "grade_id": "learnable_ht",
     "locked": true,
     "points": "10",
     "schema_version": 1,
     "solution": false
    }
   },
   "outputs": [],
   "source": [
    "## Hidden Tests Here\n",
    "#\n",
    "# AUTOGRADER TEST - DO NOT REMOVE\n",
    "#\n"
   ]
  },
  {
   "cell_type": "markdown",
   "metadata": {
    "nbgrader": {
     "grade": false,
     "grade_id": "cell-40285d4b5a7d0481",
     "locked": true,
     "schema_version": 1,
     "solution": false
    }
   },
   "source": [
    "### Exercise: Create FeedForward Network Model\n",
    "\n",
    "This function needs to be filled up with code to construct the remaining two layers of the neural network. You have to add one more hidden layers and also the output layer.\n",
    "\n",
    "You should use the sigmoid activation function. Tensorflow's `tf.nn.sigmoid()` function should be helpful. \n",
    "\n",
    "We have partially implemented this function. Complete the rest of it. Remember to not apply the sigmoid activation at the last layer as we will be using `tf.nn.sigmoid_cross_entropy_with_logits()` later which does that.\n"
   ]
  },
  {
   "cell_type": "code",
   "execution_count": 130,
   "metadata": {
    "ExecuteTime": {
     "end_time": "2018-08-01T17:52:34.104463Z",
     "start_time": "2018-08-01T17:52:34.089295Z"
    },
    "nbgrader": {
     "grade": false,
     "grade_id": "cell-0fd6390a18e16110",
     "locked": false,
     "schema_version": 1,
     "solution": true
    }
   },
   "outputs": [],
   "source": [
    "def create_feedforward_nn_model(x, weights, biases):\n",
    "    # Hidden layer with SIGMOID activation\n",
    "    layer_1 = tf.add(tf.matmul(x, weights['h1']), biases['b1'])\n",
    "    layer_1 = tf.nn.sigmoid(layer_1)\n",
    "    \n",
    "    layer_2 = tf.add(tf.matmul(layer_1, weights['h2']), biases['b2'])\n",
    "    layer_2 = tf.nn.sigmoid(layer_2)\n",
    "    \n",
    "    out_layer = tf.add(tf.matmul(layer_2, weights['out']), biases['out'])\n",
    "    \n",
    "    return out_layer\n",
    "\n"
   ]
  },
  {
   "cell_type": "markdown",
   "metadata": {
    "nbgrader": {
     "grade": false,
     "grade_id": "cell-6fcb5f53e1dbbae9",
     "locked": true,
     "schema_version": 1,
     "solution": false
    }
   },
   "source": [
    "### Exercise: Stitch the Neural Network Model\n",
    "\n",
    "Using the appropriate Tensorflow libraries, implement each of the following operations:\n",
    "- loss as the CrossEntropyLoss\n",
    "- train_op as the AdamOptimizer that minimizes the loss\n",
    "\n",
    "As inputs to these operators, you can use:\n",
    "- `pred_raw` which is the output of your neural network's last layer\n",
    "- `pred` is the predicted label, which is the output of rounding `pred_raw`. \n",
    "\n",
    "You might want to look at the Tensorflow Section notebooks as well as the TensorFlow API.\n",
    "\n",
    "Two of the returned values have been implemented as a hint for you.\n",
    "\n",
    "Functions that could be useful here: \n",
    "\n",
    "```python\n",
    "tf.nn.sigmoid_cross_entropy_with_logits()\n",
    "tf.reduce_mean()\n",
    "tf.round()\n",
    "tf.sigmoid()\n",
    "tf.train.AdamOptimizer().minimize()\n",
    "```"
   ]
  },
  {
   "cell_type": "code",
   "execution_count": 131,
   "metadata": {
    "ExecuteTime": {
     "end_time": "2018-08-01T17:53:06.176616Z",
     "start_time": "2018-08-01T17:53:05.922923Z"
    },
    "nbgrader": {
     "grade": false,
     "grade_id": "cell-2a697316f54fa391",
     "locked": false,
     "schema_version": 1,
     "solution": true
    }
   },
   "outputs": [],
   "source": [
    "# Construct model\n",
    "def stitch_network(x, y, weights, biases, learning_rate):\n",
    "    \n",
    "    pred_raw = create_feedforward_nn_model(x, weights, biases)\n",
    "    pred = tf.round(tf.nn.sigmoid(pred_raw))\n",
    "    \n",
    "    cost = tf.reduce_mean(tf.nn.sigmoid_cross_entropy_with_logits(labels=y,\n",
    "                                                                  logits=pred_raw))\n",
    "    \n",
    "    train_op = tf.train.AdamOptimizer(learning_rate=learning_rate).minimize(cost)\n",
    "    \n",
    "    return pred_raw, pred, cost, train_op\n",
    "\n",
    "\n",
    "pred_raw, pred, cost, train_op = stitch_network(x, y, weights, biases, learning_rate)"
   ]
  },
  {
   "cell_type": "code",
   "execution_count": 132,
   "metadata": {
    "ExecuteTime": {
     "end_time": "2018-08-01T17:53:08.571489Z",
     "start_time": "2018-08-01T17:53:08.567745Z"
    },
    "nbgrader": {
     "grade": true,
     "grade_id": "shape2_v",
     "locked": true,
     "points": "5",
     "schema_version": 1,
     "solution": false
    }
   },
   "outputs": [],
   "source": [
    "assert cost.__class__ == tf.Tensor\n",
    "assert cost.get_shape() == (), \"Make sure you have used reduce_mean\""
   ]
  },
  {
   "cell_type": "code",
   "execution_count": 133,
   "metadata": {
    "ExecuteTime": {
     "end_time": "2018-08-01T17:53:09.219752Z",
     "start_time": "2018-08-01T17:53:09.215291Z"
    },
    "nbgrader": {
     "grade": false,
     "grade_id": "cell-e9b4c53caccf6e1d",
     "locked": true,
     "schema_version": 1,
     "solution": false
    }
   },
   "outputs": [],
   "source": [
    "# Initializing the variables - IMPORTANT\n",
    "init = tf.global_variables_initializer()"
   ]
  },
  {
   "cell_type": "code",
   "execution_count": 134,
   "metadata": {},
   "outputs": [
    {
     "data": {
      "text/plain": [
       "(10000, 8000, 5, (2000, 28), 1600.0)"
      ]
     },
     "execution_count": 134,
     "metadata": {},
     "output_type": "execute_result"
    }
   ],
   "source": [
    "num_examples, num_train_examples, num_batches, test_features.shape, batch_size"
   ]
  },
  {
   "cell_type": "markdown",
   "metadata": {
    "nbgrader": {
     "grade": false,
     "grade_id": "cell-b683e70b1b3eafa0",
     "locked": true,
     "schema_version": 1,
     "solution": false
    }
   },
   "source": [
    "## Training and Testing the Neural Network"
   ]
  },
  {
   "cell_type": "markdown",
   "metadata": {
    "nbgrader": {
     "grade": false,
     "grade_id": "cell-b683e70b1b3asdaeafa0",
     "locked": true,
     "schema_version": 1,
     "solution": false
    }
   },
   "source": [
    "### Exercise: Writing the Train function\n",
    "\n",
    "This is where you will train your network.\n",
    "\n",
    "Your goal is to complete the following function named `train_nn()`. \n",
    "\n",
    "To help you structure your implementation, we have provided some starter code. \n",
    "\n",
    "We have also detailed each of the steps you need to pay attention to inside the main training loop.\n",
    "\n",
    "Remember you have access to all the parameters we initialized early on in the notebook, as well as to the parameters defined in the config file. \n",
    "\n",
    "`train_nn()` should return 5 python lists\n",
    "1. training_costs\n",
    "2. validation_costs\n",
    "3. training_accs\n",
    "4. validation_accs\n",
    "5. test_predictions "
   ]
  },
  {
   "cell_type": "code",
   "execution_count": 135,
   "metadata": {
    "ExecuteTime": {
     "end_time": "2018-08-01T17:54:25.061219Z",
     "start_time": "2018-08-01T17:54:24.828597Z"
    },
    "nbgrader": {
     "grade": false,
     "grade_id": "cell-cd22bec67d6afd31",
     "locked": false,
     "schema_version": 1,
     "solution": true
    }
   },
   "outputs": [],
   "source": [
    "def train_nn():\n",
    "    with tf.Session() as sess:\n",
    "\n",
    "        sess.run(init)\n",
    "        \n",
    "        ## this is needed to print debug statements during training.\n",
    "        coord = tf.train.Coordinator()\n",
    "        threads = tf.train.start_queue_runners(coord=coord)\n",
    "\n",
    "        x_train, x_valid = features[:num_train_examples], features[num_train_examples:]\n",
    "        y_train, y_valid = labels[:num_train_examples], labels[num_train_examples:]\n",
    "\n",
    "        training_costs = []\n",
    "        training_accs = []\n",
    "\n",
    "        validation_costs = []\n",
    "        validation_accs = []\n",
    "\n",
    "        for epoch in range(training_epochs):\n",
    "        \n",
    "            '''\n",
    "            We recommend you first think about how you will implement this on your own before proceeding to read any further.\n",
    "        \n",
    "            HINT: You should implement the following procedure here:\n",
    "        \n",
    "            An epoch is one pass through your training data\n",
    "            1. Keep a counter of your epoch's total cost. \n",
    "               You will need this to average over the batches.\n",
    "            2. Keep a counter of the number of correct predictions in your epoch. \n",
    "               You will need this to sum over the batches to calculate per epoch accuracy.\n",
    "            \n",
    "            For each batch  (you should have `num_batches` number of batches totally)\n",
    "                --Batchwise training--\n",
    "                3. subset your features and labels from x_train and y_train\n",
    "                ex. for batch 1, you'd select all examples in the interval [0,batch_size)\n",
    "                    for batch 2, it would be between [batch_size, 2*batch_size)\n",
    "                    Make sure to account for a possible fractional batch as your last batch\n",
    "                4. Massage your x_batch and y_batch into numpy arrays of shape (size_of_batch, 28) \n",
    "                    and (size_of_batch, 1) respectively\n",
    "                    \n",
    "                5. Feed the x_batch and y_batch into your tensorflow graph and execute the optimizer, cost and pred \n",
    "                    in order to train your model using the current batch and also get back the batch_cost and batch_predictions\n",
    "                6. Count the number of correct predictions for this batch and add it to the counter for the \n",
    "                    correct predictions in the epoch\n",
    "                    \n",
    "            7. Calculate your average_epoch_cost as the total_epoch_cost divided by the number of training examples\n",
    "            8. Append the average_epoch_cost to `training_costs`\n",
    "            9. Calculate your epoch_accuracy as the total number of correct predictions in your epoch\n",
    "                    divided by the number of training examples\n",
    "            10. Append the epoch_accuracy to `training_accs`\n",
    "            \n",
    "            --Validation--\n",
    "            \n",
    "            11. Massage your validation labels (y_valid) into a numpy arrays of shape (validation_set_size, 1)\n",
    "            12. With y_valid and x_valid as input to your graph, calculate the validation loss and validation predictions\n",
    "                    We are calculating validation accuracy at the end of each epoch\n",
    "            13. Calculate the number of correct validation predictions by comparing against your validation labels\n",
    "            14. Append validation costs and validation accuracy to their respective lists\n",
    "            15. Avoid printing a lot of debug information when you submit the assignment. \n",
    "                This reduces the speed of execution.\n",
    "                If you want to print some information every so often, you can use the following line \n",
    "                at the end of your epoch loop:\n",
    "                if epoch%display_step==0:\n",
    "                    print(\"Epoch %d | Tr cost: %f | Tr accuracy %f | Va cost: %f | Va accuracy: \n",
    "                        %f\"%(epoch + 1,avg_epoch_cost, this_epoch_accuracy, batch_valid_cost, valid_accuracy))\n",
    "            '''\n",
    "            epoch_cost, epoch_acc = 0, 0\n",
    "            for i in range(num_batches):\n",
    "                begin_idx, end_idx = int(i*batch_size), int((i+1)*batch_size)\n",
    "                x_batch = x_train[begin_idx:end_idx,:]\n",
    "                y_batch = y_train[begin_idx:end_idx,:]\n",
    "                feed_dict = {\n",
    "                    x : x_batch,\n",
    "                    y : y_batch\n",
    "                }\n",
    "                pred_batch, loss_batch, _ = sess.run([pred, cost, train_op],\n",
    "                         feed_dict = feed_dict)\n",
    "                epoch_cost += loss_batch\n",
    "                epoch_acc += np.sum(pred_batch == y_batch)\n",
    "                \n",
    "                \n",
    "            avg_epoch_cost = epoch_cost/num_batches\n",
    "            this_epoch_accuracy = epoch_acc/num_train_examples\n",
    "            training_costs.append(avg_epoch_cost)\n",
    "            training_accs.append(this_epoch_accuracy)\n",
    "            \n",
    "            y_valid_pred,y_valid_cost = sess.run([pred,cost],\n",
    "                                   feed_dict={\n",
    "                                       x:x_valid,\n",
    "                                       y:y_valid\n",
    "                                   })\n",
    "            batch_valid_cost = y_valid_cost\n",
    "            valid_accuracy = np.sum(y_valid == y_valid_pred)/x_valid.shape[0]\n",
    "            validation_costs.append(batch_valid_cost)\n",
    "            validation_accs.append(valid_accuracy)\n",
    "\n",
    "            if epoch%display_step==0:\n",
    "                print(\"Epoch %d | Tr cost: %f | Tr accuracy %f | Va cost: %f | Va accuracy: %f\"%(epoch + 1,\n",
    "                         avg_epoch_cost, this_epoch_accuracy, batch_valid_cost, valid_accuracy))\n",
    "        \n",
    "        ## hack\n",
    "        validation_costs = list(np.array(validation_costs,dtype=np.float64))\n",
    "        #\n",
    "        \n",
    "        print(\"Optimization Finished!\")\n",
    "\n",
    "        ## Assuming the above part is completed, you should now use your trained model to make predictions on the test set.\n",
    "        print('Calculating predictions of the model on the test set')\n",
    "\n",
    "        test_predictions = sess.run(pred, feed_dict={\n",
    "            x : test_features\n",
    "        })\n",
    "        print('Inference done. Now saving the predictions in a list.')\n",
    "        \n",
    "        ## this is needed to print debug statements during training.\n",
    "        coord.request_stop()\n",
    "        coord.join(threads)\n",
    "    \n",
    "    ## close TF session if open\n",
    "    if 'session' in locals() and sess is not None:\n",
    "        print('Close interactive session')\n",
    "        sess.close()\n",
    "        \n",
    "    return training_costs, validation_costs, training_accs, validation_accs, test_predictions"
   ]
  },
  {
   "cell_type": "markdown",
   "metadata": {},
   "source": [
    "train on smaller dataset  \n",
    "overfit"
   ]
  },
  {
   "cell_type": "code",
   "execution_count": 136,
   "metadata": {
    "ExecuteTime": {
     "end_time": "2018-08-01T17:58:32.963706Z",
     "start_time": "2018-08-01T17:54:27.170269Z"
    },
    "nbgrader": {
     "grade": false,
     "grade_id": "cell-099ff13f7570ad44",
     "locked": true,
     "schema_version": 1,
     "solution": false
    }
   },
   "outputs": [
    {
     "name": "stdout",
     "output_type": "stream",
     "text": [
      "WARNING:tensorflow:`tf.train.start_queue_runners()` was called when no queue runners were defined. You can safely remove the call to this deprecated function.\n",
      "Epoch 1 | Tr cost: 0.778523 | Tr accuracy 0.510875 | Va cost: 0.723597 | Va accuracy: 0.516000\n",
      "Epoch 2 | Tr cost: 0.687143 | Tr accuracy 0.563500 | Va cost: 0.686351 | Va accuracy: 0.571500\n",
      "Epoch 3 | Tr cost: 0.664228 | Tr accuracy 0.598000 | Va cost: 0.664237 | Va accuracy: 0.586500\n",
      "Epoch 4 | Tr cost: 0.654132 | Tr accuracy 0.619500 | Va cost: 0.655276 | Va accuracy: 0.601500\n",
      "Epoch 5 | Tr cost: 0.645118 | Tr accuracy 0.626125 | Va cost: 0.650214 | Va accuracy: 0.605000\n",
      "Epoch 6 | Tr cost: 0.636638 | Tr accuracy 0.638375 | Va cost: 0.643388 | Va accuracy: 0.617500\n",
      "Epoch 7 | Tr cost: 0.629108 | Tr accuracy 0.645125 | Va cost: 0.639715 | Va accuracy: 0.624500\n",
      "Epoch 8 | Tr cost: 0.621550 | Tr accuracy 0.650750 | Va cost: 0.637337 | Va accuracy: 0.624000\n",
      "Epoch 9 | Tr cost: 0.614800 | Tr accuracy 0.664500 | Va cost: 0.634963 | Va accuracy: 0.634500\n",
      "Epoch 10 | Tr cost: 0.608724 | Tr accuracy 0.667625 | Va cost: 0.632897 | Va accuracy: 0.631000\n",
      "Epoch 11 | Tr cost: 0.602881 | Tr accuracy 0.668750 | Va cost: 0.630394 | Va accuracy: 0.641000\n",
      "Epoch 12 | Tr cost: 0.597342 | Tr accuracy 0.676125 | Va cost: 0.628162 | Va accuracy: 0.643500\n",
      "Epoch 13 | Tr cost: 0.591907 | Tr accuracy 0.682875 | Va cost: 0.625445 | Va accuracy: 0.649000\n",
      "Epoch 14 | Tr cost: 0.586300 | Tr accuracy 0.689250 | Va cost: 0.623225 | Va accuracy: 0.655000\n",
      "Epoch 15 | Tr cost: 0.580723 | Tr accuracy 0.693625 | Va cost: 0.621640 | Va accuracy: 0.658000\n",
      "Epoch 16 | Tr cost: 0.575505 | Tr accuracy 0.697500 | Va cost: 0.620474 | Va accuracy: 0.663500\n",
      "Epoch 17 | Tr cost: 0.570291 | Tr accuracy 0.704250 | Va cost: 0.619869 | Va accuracy: 0.660500\n",
      "Epoch 18 | Tr cost: 0.565386 | Tr accuracy 0.711125 | Va cost: 0.619959 | Va accuracy: 0.663000\n",
      "Epoch 19 | Tr cost: 0.560799 | Tr accuracy 0.715750 | Va cost: 0.620516 | Va accuracy: 0.657000\n",
      "Epoch 20 | Tr cost: 0.556562 | Tr accuracy 0.717750 | Va cost: 0.621453 | Va accuracy: 0.653500\n",
      "Epoch 21 | Tr cost: 0.552840 | Tr accuracy 0.722625 | Va cost: 0.622593 | Va accuracy: 0.657000\n",
      "Epoch 22 | Tr cost: 0.549402 | Tr accuracy 0.724750 | Va cost: 0.623962 | Va accuracy: 0.657500\n",
      "Epoch 23 | Tr cost: 0.546184 | Tr accuracy 0.725875 | Va cost: 0.625535 | Va accuracy: 0.658000\n",
      "Epoch 24 | Tr cost: 0.543053 | Tr accuracy 0.729000 | Va cost: 0.626921 | Va accuracy: 0.658500\n",
      "Epoch 25 | Tr cost: 0.539972 | Tr accuracy 0.731375 | Va cost: 0.628001 | Va accuracy: 0.658000\n",
      "Epoch 26 | Tr cost: 0.536966 | Tr accuracy 0.732000 | Va cost: 0.629137 | Va accuracy: 0.659500\n",
      "Epoch 27 | Tr cost: 0.534086 | Tr accuracy 0.732750 | Va cost: 0.630488 | Va accuracy: 0.661500\n",
      "Epoch 28 | Tr cost: 0.531348 | Tr accuracy 0.735875 | Va cost: 0.631951 | Va accuracy: 0.662000\n",
      "Epoch 29 | Tr cost: 0.528730 | Tr accuracy 0.737750 | Va cost: 0.633444 | Va accuracy: 0.660000\n",
      "Epoch 30 | Tr cost: 0.526151 | Tr accuracy 0.738750 | Va cost: 0.634920 | Va accuracy: 0.660000\n",
      "Epoch 31 | Tr cost: 0.523586 | Tr accuracy 0.740500 | Va cost: 0.636373 | Va accuracy: 0.657500\n",
      "Epoch 32 | Tr cost: 0.521018 | Tr accuracy 0.744750 | Va cost: 0.637815 | Va accuracy: 0.662500\n",
      "Epoch 33 | Tr cost: 0.518479 | Tr accuracy 0.747500 | Va cost: 0.639207 | Va accuracy: 0.660500\n",
      "Epoch 34 | Tr cost: 0.516015 | Tr accuracy 0.749750 | Va cost: 0.640522 | Va accuracy: 0.662500\n",
      "Epoch 35 | Tr cost: 0.513638 | Tr accuracy 0.750125 | Va cost: 0.641821 | Va accuracy: 0.665500\n",
      "Epoch 36 | Tr cost: 0.511385 | Tr accuracy 0.753625 | Va cost: 0.643159 | Va accuracy: 0.666500\n",
      "Epoch 37 | Tr cost: 0.509299 | Tr accuracy 0.753375 | Va cost: 0.644467 | Va accuracy: 0.670500\n",
      "Epoch 38 | Tr cost: 0.507358 | Tr accuracy 0.755125 | Va cost: 0.645737 | Va accuracy: 0.670500\n",
      "Epoch 39 | Tr cost: 0.505509 | Tr accuracy 0.756625 | Va cost: 0.647035 | Va accuracy: 0.670000\n",
      "Epoch 40 | Tr cost: 0.503695 | Tr accuracy 0.757875 | Va cost: 0.648330 | Va accuracy: 0.667500\n",
      "Epoch 41 | Tr cost: 0.501899 | Tr accuracy 0.759000 | Va cost: 0.649592 | Va accuracy: 0.665000\n",
      "Epoch 42 | Tr cost: 0.500138 | Tr accuracy 0.759875 | Va cost: 0.650929 | Va accuracy: 0.665000\n",
      "Epoch 43 | Tr cost: 0.498450 | Tr accuracy 0.760125 | Va cost: 0.652404 | Va accuracy: 0.665000\n",
      "Epoch 44 | Tr cost: 0.496864 | Tr accuracy 0.760125 | Va cost: 0.653989 | Va accuracy: 0.665000\n",
      "Epoch 45 | Tr cost: 0.495382 | Tr accuracy 0.761500 | Va cost: 0.655641 | Va accuracy: 0.664000\n",
      "Epoch 46 | Tr cost: 0.493998 | Tr accuracy 0.761750 | Va cost: 0.657347 | Va accuracy: 0.663000\n",
      "Epoch 47 | Tr cost: 0.492698 | Tr accuracy 0.761750 | Va cost: 0.659119 | Va accuracy: 0.665500\n",
      "Epoch 48 | Tr cost: 0.491456 | Tr accuracy 0.762125 | Va cost: 0.660950 | Va accuracy: 0.665000\n",
      "Epoch 49 | Tr cost: 0.490246 | Tr accuracy 0.763250 | Va cost: 0.662773 | Va accuracy: 0.667000\n",
      "Epoch 50 | Tr cost: 0.489049 | Tr accuracy 0.764750 | Va cost: 0.664521 | Va accuracy: 0.668000\n",
      "Epoch 51 | Tr cost: 0.487859 | Tr accuracy 0.765000 | Va cost: 0.666199 | Va accuracy: 0.665000\n",
      "Epoch 52 | Tr cost: 0.486679 | Tr accuracy 0.765875 | Va cost: 0.667847 | Va accuracy: 0.663500\n",
      "Epoch 53 | Tr cost: 0.485523 | Tr accuracy 0.766500 | Va cost: 0.669498 | Va accuracy: 0.665000\n",
      "Epoch 54 | Tr cost: 0.484409 | Tr accuracy 0.767250 | Va cost: 0.671166 | Va accuracy: 0.661000\n",
      "Epoch 55 | Tr cost: 0.483349 | Tr accuracy 0.769500 | Va cost: 0.672855 | Va accuracy: 0.659500\n",
      "Epoch 56 | Tr cost: 0.482345 | Tr accuracy 0.770625 | Va cost: 0.674580 | Va accuracy: 0.659000\n",
      "Epoch 57 | Tr cost: 0.481386 | Tr accuracy 0.770375 | Va cost: 0.676369 | Va accuracy: 0.658500\n",
      "Epoch 58 | Tr cost: 0.480450 | Tr accuracy 0.769875 | Va cost: 0.678235 | Va accuracy: 0.656500\n",
      "Epoch 59 | Tr cost: 0.479521 | Tr accuracy 0.770000 | Va cost: 0.680156 | Va accuracy: 0.654500\n",
      "Epoch 60 | Tr cost: 0.478596 | Tr accuracy 0.770375 | Va cost: 0.682088 | Va accuracy: 0.654000\n",
      "Epoch 61 | Tr cost: 0.477685 | Tr accuracy 0.770500 | Va cost: 0.683988 | Va accuracy: 0.655000\n",
      "Epoch 62 | Tr cost: 0.476801 | Tr accuracy 0.770500 | Va cost: 0.685839 | Va accuracy: 0.658000\n",
      "Epoch 63 | Tr cost: 0.475952 | Tr accuracy 0.771125 | Va cost: 0.687646 | Va accuracy: 0.657000\n",
      "Epoch 64 | Tr cost: 0.475153 | Tr accuracy 0.772250 | Va cost: 0.689424 | Va accuracy: 0.655500\n",
      "Epoch 65 | Tr cost: 0.474410 | Tr accuracy 0.773625 | Va cost: 0.691188 | Va accuracy: 0.653500\n",
      "Epoch 66 | Tr cost: 0.473714 | Tr accuracy 0.775250 | Va cost: 0.692957 | Va accuracy: 0.653500\n",
      "Epoch 67 | Tr cost: 0.473052 | Tr accuracy 0.775875 | Va cost: 0.694755 | Va accuracy: 0.654500\n",
      "Epoch 68 | Tr cost: 0.472406 | Tr accuracy 0.776500 | Va cost: 0.696612 | Va accuracy: 0.650000\n",
      "Epoch 69 | Tr cost: 0.471784 | Tr accuracy 0.777500 | Va cost: 0.698502 | Va accuracy: 0.651500\n",
      "Epoch 70 | Tr cost: 0.471175 | Tr accuracy 0.778000 | Va cost: 0.700380 | Va accuracy: 0.652000\n",
      "Epoch 71 | Tr cost: 0.470571 | Tr accuracy 0.778375 | Va cost: 0.702176 | Va accuracy: 0.652000\n",
      "Epoch 72 | Tr cost: 0.469965 | Tr accuracy 0.778000 | Va cost: 0.703882 | Va accuracy: 0.650000\n",
      "Epoch 73 | Tr cost: 0.469369 | Tr accuracy 0.777875 | Va cost: 0.705573 | Va accuracy: 0.650000\n",
      "Epoch 74 | Tr cost: 0.468811 | Tr accuracy 0.778625 | Va cost: 0.707282 | Va accuracy: 0.651000\n",
      "Epoch 75 | Tr cost: 0.468299 | Tr accuracy 0.779000 | Va cost: 0.708997 | Va accuracy: 0.650500\n",
      "Epoch 76 | Tr cost: 0.467827 | Tr accuracy 0.780250 | Va cost: 0.710725 | Va accuracy: 0.649000\n",
      "Epoch 77 | Tr cost: 0.467379 | Tr accuracy 0.780500 | Va cost: 0.712500 | Va accuracy: 0.648500\n",
      "Epoch 78 | Tr cost: 0.466936 | Tr accuracy 0.780750 | Va cost: 0.714332 | Va accuracy: 0.651000\n",
      "Epoch 79 | Tr cost: 0.466486 | Tr accuracy 0.781125 | Va cost: 0.716168 | Va accuracy: 0.650500\n",
      "Epoch 80 | Tr cost: 0.466021 | Tr accuracy 0.780625 | Va cost: 0.717940 | Va accuracy: 0.648500\n",
      "Epoch 81 | Tr cost: 0.465535 | Tr accuracy 0.779625 | Va cost: 0.719636 | Va accuracy: 0.645500\n",
      "Epoch 82 | Tr cost: 0.465030 | Tr accuracy 0.780375 | Va cost: 0.721305 | Va accuracy: 0.644500\n",
      "Epoch 83 | Tr cost: 0.464530 | Tr accuracy 0.781750 | Va cost: 0.722972 | Va accuracy: 0.642500\n",
      "Epoch 84 | Tr cost: 0.464061 | Tr accuracy 0.781625 | Va cost: 0.724601 | Va accuracy: 0.641500\n",
      "Epoch 85 | Tr cost: 0.463627 | Tr accuracy 0.782500 | Va cost: 0.726173 | Va accuracy: 0.641500\n",
      "Epoch 86 | Tr cost: 0.463203 | Tr accuracy 0.782750 | Va cost: 0.727724 | Va accuracy: 0.641000\n",
      "Epoch 87 | Tr cost: 0.462767 | Tr accuracy 0.783375 | Va cost: 0.729272 | Va accuracy: 0.640000\n",
      "Epoch 88 | Tr cost: 0.462310 | Tr accuracy 0.783250 | Va cost: 0.730763 | Va accuracy: 0.640000\n",
      "Epoch 89 | Tr cost: 0.461828 | Tr accuracy 0.783250 | Va cost: 0.732168 | Va accuracy: 0.636500\n",
      "Epoch 90 | Tr cost: 0.461318 | Tr accuracy 0.782875 | Va cost: 0.733553 | Va accuracy: 0.639000\n",
      "Epoch 91 | Tr cost: 0.460799 | Tr accuracy 0.784375 | Va cost: 0.734984 | Va accuracy: 0.636500\n",
      "Epoch 92 | Tr cost: 0.460302 | Tr accuracy 0.783625 | Va cost: 0.736394 | Va accuracy: 0.637500\n",
      "Epoch 93 | Tr cost: 0.459834 | Tr accuracy 0.784250 | Va cost: 0.737659 | Va accuracy: 0.636000\n",
      "Epoch 94 | Tr cost: 0.459357 | Tr accuracy 0.785625 | Va cost: 0.738767 | Va accuracy: 0.637000\n",
      "Epoch 95 | Tr cost: 0.458838 | Tr accuracy 0.784625 | Va cost: 0.739798 | Va accuracy: 0.635000\n",
      "Epoch 96 | Tr cost: 0.458275 | Tr accuracy 0.785250 | Va cost: 0.740759 | Va accuracy: 0.632000\n",
      "Epoch 97 | Tr cost: 0.457685 | Tr accuracy 0.785500 | Va cost: 0.741595 | Va accuracy: 0.634000\n",
      "Epoch 98 | Tr cost: 0.457075 | Tr accuracy 0.785250 | Va cost: 0.742338 | Va accuracy: 0.633500\n",
      "Epoch 99 | Tr cost: 0.456471 | Tr accuracy 0.786250 | Va cost: 0.743057 | Va accuracy: 0.634000\n",
      "Epoch 100 | Tr cost: 0.455908 | Tr accuracy 0.786875 | Va cost: 0.743726 | Va accuracy: 0.634500\n",
      "Epoch 101 | Tr cost: 0.455393 | Tr accuracy 0.786750 | Va cost: 0.744301 | Va accuracy: 0.634000\n",
      "Epoch 102 | Tr cost: 0.454898 | Tr accuracy 0.787250 | Va cost: 0.744830 | Va accuracy: 0.634000\n",
      "Epoch 103 | Tr cost: 0.454398 | Tr accuracy 0.787750 | Va cost: 0.745388 | Va accuracy: 0.634500\n",
      "Epoch 104 | Tr cost: 0.453899 | Tr accuracy 0.788875 | Va cost: 0.745975 | Va accuracy: 0.636000\n",
      "Epoch 105 | Tr cost: 0.453404 | Tr accuracy 0.788375 | Va cost: 0.746584 | Va accuracy: 0.636500\n",
      "Epoch 106 | Tr cost: 0.452905 | Tr accuracy 0.788000 | Va cost: 0.747271 | Va accuracy: 0.635500\n",
      "Epoch 107 | Tr cost: 0.452417 | Tr accuracy 0.788125 | Va cost: 0.748015 | Va accuracy: 0.636500\n",
      "Epoch 108 | Tr cost: 0.451972 | Tr accuracy 0.788750 | Va cost: 0.748661 | Va accuracy: 0.635500\n",
      "Epoch 109 | Tr cost: 0.451561 | Tr accuracy 0.790375 | Va cost: 0.749167 | Va accuracy: 0.636500\n",
      "Epoch 110 | Tr cost: 0.451153 | Tr accuracy 0.791625 | Va cost: 0.749668 | Va accuracy: 0.634500\n",
      "Epoch 111 | Tr cost: 0.450739 | Tr accuracy 0.791250 | Va cost: 0.750236 | Va accuracy: 0.636500\n",
      "Epoch 112 | Tr cost: 0.450332 | Tr accuracy 0.790875 | Va cost: 0.750831 | Va accuracy: 0.635500\n",
      "Epoch 113 | Tr cost: 0.449923 | Tr accuracy 0.790625 | Va cost: 0.751503 | Va accuracy: 0.636500\n",
      "Epoch 114 | Tr cost: 0.449510 | Tr accuracy 0.791500 | Va cost: 0.752310 | Va accuracy: 0.638500\n",
      "Epoch 115 | Tr cost: 0.449129 | Tr accuracy 0.791000 | Va cost: 0.753103 | Va accuracy: 0.639000\n",
      "Epoch 116 | Tr cost: 0.448794 | Tr accuracy 0.791375 | Va cost: 0.753733 | Va accuracy: 0.637000\n",
      "Epoch 117 | Tr cost: 0.448468 | Tr accuracy 0.792125 | Va cost: 0.754290 | Va accuracy: 0.635000\n",
      "Epoch 118 | Tr cost: 0.448126 | Tr accuracy 0.792250 | Va cost: 0.754903 | Va accuracy: 0.636000\n",
      "Epoch 119 | Tr cost: 0.447780 | Tr accuracy 0.792000 | Va cost: 0.755582 | Va accuracy: 0.635500\n",
      "Epoch 120 | Tr cost: 0.447429 | Tr accuracy 0.791875 | Va cost: 0.756393 | Va accuracy: 0.634500\n",
      "Epoch 121 | Tr cost: 0.447075 | Tr accuracy 0.791750 | Va cost: 0.757375 | Va accuracy: 0.635500\n",
      "Epoch 122 | Tr cost: 0.446755 | Tr accuracy 0.792250 | Va cost: 0.758326 | Va accuracy: 0.636000\n",
      "Epoch 123 | Tr cost: 0.446476 | Tr accuracy 0.792875 | Va cost: 0.759075 | Va accuracy: 0.636000\n",
      "Epoch 124 | Tr cost: 0.446190 | Tr accuracy 0.793500 | Va cost: 0.759737 | Va accuracy: 0.636000\n",
      "Epoch 125 | Tr cost: 0.445879 | Tr accuracy 0.792750 | Va cost: 0.760432 | Va accuracy: 0.639000\n",
      "Epoch 126 | Tr cost: 0.445566 | Tr accuracy 0.793250 | Va cost: 0.761165 | Va accuracy: 0.637000\n",
      "Epoch 127 | Tr cost: 0.445250 | Tr accuracy 0.793125 | Va cost: 0.762024 | Va accuracy: 0.635500\n",
      "Epoch 128 | Tr cost: 0.444946 | Tr accuracy 0.793500 | Va cost: 0.762987 | Va accuracy: 0.636000\n",
      "Epoch 129 | Tr cost: 0.444686 | Tr accuracy 0.794000 | Va cost: 0.763807 | Va accuracy: 0.636000\n",
      "Epoch 130 | Tr cost: 0.444443 | Tr accuracy 0.793875 | Va cost: 0.764403 | Va accuracy: 0.635000\n",
      "Epoch 131 | Tr cost: 0.444170 | Tr accuracy 0.794000 | Va cost: 0.764921 | Va accuracy: 0.636500\n",
      "Epoch 132 | Tr cost: 0.443883 | Tr accuracy 0.794500 | Va cost: 0.765414 | Va accuracy: 0.636000\n",
      "Epoch 133 | Tr cost: 0.443599 | Tr accuracy 0.793250 | Va cost: 0.765937 | Va accuracy: 0.635000\n",
      "Epoch 134 | Tr cost: 0.443314 | Tr accuracy 0.794125 | Va cost: 0.766571 | Va accuracy: 0.635000\n",
      "Epoch 135 | Tr cost: 0.443048 | Tr accuracy 0.794625 | Va cost: 0.767139 | Va accuracy: 0.634500\n",
      "Epoch 136 | Tr cost: 0.442797 | Tr accuracy 0.795125 | Va cost: 0.767464 | Va accuracy: 0.636000\n",
      "Epoch 137 | Tr cost: 0.442518 | Tr accuracy 0.795375 | Va cost: 0.767679 | Va accuracy: 0.636000\n",
      "Epoch 138 | Tr cost: 0.442222 | Tr accuracy 0.794500 | Va cost: 0.767934 | Va accuracy: 0.638000\n",
      "Epoch 139 | Tr cost: 0.441934 | Tr accuracy 0.795750 | Va cost: 0.768307 | Va accuracy: 0.637500\n",
      "Epoch 140 | Tr cost: 0.441634 | Tr accuracy 0.795000 | Va cost: 0.768904 | Va accuracy: 0.638500\n",
      "Epoch 141 | Tr cost: 0.441325 | Tr accuracy 0.795375 | Va cost: 0.769601 | Va accuracy: 0.638000\n",
      "Epoch 142 | Tr cost: 0.441038 | Tr accuracy 0.795750 | Va cost: 0.770178 | Va accuracy: 0.638500\n",
      "Epoch 143 | Tr cost: 0.440767 | Tr accuracy 0.796500 | Va cost: 0.770655 | Va accuracy: 0.642500\n",
      "Epoch 144 | Tr cost: 0.440482 | Tr accuracy 0.796875 | Va cost: 0.771123 | Va accuracy: 0.643500\n",
      "Epoch 145 | Tr cost: 0.440193 | Tr accuracy 0.796625 | Va cost: 0.771666 | Va accuracy: 0.642500\n",
      "Epoch 146 | Tr cost: 0.439897 | Tr accuracy 0.796625 | Va cost: 0.772404 | Va accuracy: 0.640500\n",
      "Epoch 147 | Tr cost: 0.439611 | Tr accuracy 0.796750 | Va cost: 0.773231 | Va accuracy: 0.639500\n",
      "Epoch 148 | Tr cost: 0.439342 | Tr accuracy 0.797125 | Va cost: 0.773959 | Va accuracy: 0.639500\n",
      "Epoch 149 | Tr cost: 0.439062 | Tr accuracy 0.796625 | Va cost: 0.774594 | Va accuracy: 0.640000\n",
      "Epoch 150 | Tr cost: 0.438777 | Tr accuracy 0.796000 | Va cost: 0.775190 | Va accuracy: 0.639500\n",
      "Epoch 151 | Tr cost: 0.438498 | Tr accuracy 0.795875 | Va cost: 0.775850 | Va accuracy: 0.640500\n",
      "Epoch 152 | Tr cost: 0.438217 | Tr accuracy 0.796000 | Va cost: 0.776644 | Va accuracy: 0.641000\n",
      "Epoch 153 | Tr cost: 0.437947 | Tr accuracy 0.797375 | Va cost: 0.777432 | Va accuracy: 0.639500\n",
      "Epoch 154 | Tr cost: 0.437684 | Tr accuracy 0.797750 | Va cost: 0.778111 | Va accuracy: 0.640000\n",
      "Epoch 155 | Tr cost: 0.437409 | Tr accuracy 0.797125 | Va cost: 0.778730 | Va accuracy: 0.640500\n",
      "Epoch 156 | Tr cost: 0.437138 | Tr accuracy 0.797625 | Va cost: 0.779364 | Va accuracy: 0.640500\n",
      "Epoch 157 | Tr cost: 0.436869 | Tr accuracy 0.798000 | Va cost: 0.780106 | Va accuracy: 0.641000\n",
      "Epoch 158 | Tr cost: 0.436601 | Tr accuracy 0.798750 | Va cost: 0.780921 | Va accuracy: 0.641500\n",
      "Epoch 159 | Tr cost: 0.436339 | Tr accuracy 0.799250 | Va cost: 0.781682 | Va accuracy: 0.641500\n",
      "Epoch 160 | Tr cost: 0.436078 | Tr accuracy 0.800125 | Va cost: 0.782378 | Va accuracy: 0.640500\n",
      "Epoch 161 | Tr cost: 0.435822 | Tr accuracy 0.800125 | Va cost: 0.783053 | Va accuracy: 0.641000\n",
      "Epoch 162 | Tr cost: 0.435573 | Tr accuracy 0.799875 | Va cost: 0.783775 | Va accuracy: 0.641000\n",
      "Epoch 163 | Tr cost: 0.435320 | Tr accuracy 0.800000 | Va cost: 0.784572 | Va accuracy: 0.639000\n",
      "Epoch 164 | Tr cost: 0.435067 | Tr accuracy 0.800500 | Va cost: 0.785361 | Va accuracy: 0.638500\n",
      "Epoch 165 | Tr cost: 0.434817 | Tr accuracy 0.800625 | Va cost: 0.786092 | Va accuracy: 0.638500\n",
      "Epoch 166 | Tr cost: 0.434572 | Tr accuracy 0.800500 | Va cost: 0.786783 | Va accuracy: 0.636000\n",
      "Epoch 167 | Tr cost: 0.434336 | Tr accuracy 0.800375 | Va cost: 0.787481 | Va accuracy: 0.636000\n",
      "Epoch 168 | Tr cost: 0.434097 | Tr accuracy 0.800875 | Va cost: 0.788240 | Va accuracy: 0.634500\n",
      "Epoch 169 | Tr cost: 0.433857 | Tr accuracy 0.801000 | Va cost: 0.789027 | Va accuracy: 0.635000\n",
      "Epoch 170 | Tr cost: 0.433620 | Tr accuracy 0.800500 | Va cost: 0.789785 | Va accuracy: 0.636000\n",
      "Epoch 171 | Tr cost: 0.433392 | Tr accuracy 0.800500 | Va cost: 0.790501 | Va accuracy: 0.635000\n",
      "Epoch 172 | Tr cost: 0.433174 | Tr accuracy 0.800500 | Va cost: 0.791199 | Va accuracy: 0.635000\n",
      "Epoch 173 | Tr cost: 0.432957 | Tr accuracy 0.800000 | Va cost: 0.791916 | Va accuracy: 0.635000\n",
      "Epoch 174 | Tr cost: 0.432737 | Tr accuracy 0.800375 | Va cost: 0.792638 | Va accuracy: 0.634500\n",
      "Epoch 175 | Tr cost: 0.432521 | Tr accuracy 0.800875 | Va cost: 0.793330 | Va accuracy: 0.634000\n",
      "Epoch 176 | Tr cost: 0.432311 | Tr accuracy 0.800750 | Va cost: 0.793998 | Va accuracy: 0.633500\n",
      "Epoch 177 | Tr cost: 0.432109 | Tr accuracy 0.801250 | Va cost: 0.794666 | Va accuracy: 0.634000\n",
      "Epoch 178 | Tr cost: 0.431907 | Tr accuracy 0.801500 | Va cost: 0.795357 | Va accuracy: 0.633500\n",
      "Epoch 179 | Tr cost: 0.431704 | Tr accuracy 0.800875 | Va cost: 0.796055 | Va accuracy: 0.632000\n",
      "Epoch 180 | Tr cost: 0.431505 | Tr accuracy 0.801375 | Va cost: 0.796729 | Va accuracy: 0.631000\n",
      "Epoch 181 | Tr cost: 0.431311 | Tr accuracy 0.801250 | Va cost: 0.797381 | Va accuracy: 0.632000\n",
      "Epoch 182 | Tr cost: 0.431123 | Tr accuracy 0.801125 | Va cost: 0.798031 | Va accuracy: 0.633000\n",
      "Epoch 183 | Tr cost: 0.430934 | Tr accuracy 0.801125 | Va cost: 0.798699 | Va accuracy: 0.632500\n",
      "Epoch 184 | Tr cost: 0.430746 | Tr accuracy 0.800375 | Va cost: 0.799368 | Va accuracy: 0.632500\n",
      "Epoch 185 | Tr cost: 0.430561 | Tr accuracy 0.800375 | Va cost: 0.800022 | Va accuracy: 0.631500\n",
      "Epoch 186 | Tr cost: 0.430381 | Tr accuracy 0.800625 | Va cost: 0.800663 | Va accuracy: 0.631500\n",
      "Epoch 187 | Tr cost: 0.430204 | Tr accuracy 0.801000 | Va cost: 0.801309 | Va accuracy: 0.630000\n",
      "Epoch 188 | Tr cost: 0.430027 | Tr accuracy 0.801375 | Va cost: 0.801967 | Va accuracy: 0.630000\n",
      "Epoch 189 | Tr cost: 0.429852 | Tr accuracy 0.800750 | Va cost: 0.802621 | Va accuracy: 0.630000\n",
      "Epoch 190 | Tr cost: 0.429679 | Tr accuracy 0.801125 | Va cost: 0.803261 | Va accuracy: 0.630500\n",
      "Epoch 191 | Tr cost: 0.429510 | Tr accuracy 0.801625 | Va cost: 0.803894 | Va accuracy: 0.631500\n",
      "Epoch 192 | Tr cost: 0.429343 | Tr accuracy 0.802625 | Va cost: 0.804534 | Va accuracy: 0.631000\n",
      "Epoch 193 | Tr cost: 0.429175 | Tr accuracy 0.802875 | Va cost: 0.805178 | Va accuracy: 0.630500\n",
      "Epoch 194 | Tr cost: 0.429009 | Tr accuracy 0.803000 | Va cost: 0.805815 | Va accuracy: 0.630000\n",
      "Epoch 195 | Tr cost: 0.428845 | Tr accuracy 0.803000 | Va cost: 0.806444 | Va accuracy: 0.629500\n",
      "Epoch 196 | Tr cost: 0.428683 | Tr accuracy 0.803500 | Va cost: 0.807077 | Va accuracy: 0.630000\n",
      "Epoch 197 | Tr cost: 0.428520 | Tr accuracy 0.804125 | Va cost: 0.807719 | Va accuracy: 0.630500\n",
      "Epoch 198 | Tr cost: 0.428358 | Tr accuracy 0.804500 | Va cost: 0.808362 | Va accuracy: 0.629500\n",
      "Epoch 199 | Tr cost: 0.428196 | Tr accuracy 0.804625 | Va cost: 0.809000 | Va accuracy: 0.629500\n",
      "Epoch 200 | Tr cost: 0.428033 | Tr accuracy 0.804375 | Va cost: 0.809628 | Va accuracy: 0.630000\n",
      "Optimization Finished!\n",
      "Calculating predictions of the model on the test set\n",
      "Inference done. Now saving the predictions in a list.\n"
     ]
    }
   ],
   "source": [
    "training_costs, validation_costs, training_accs, validation_accs, test_predictions = train_nn()"
   ]
  },
  {
   "cell_type": "code",
   "execution_count": 118,
   "metadata": {
    "ExecuteTime": {
     "end_time": "2018-08-01T17:59:34.690979Z",
     "start_time": "2018-08-01T17:59:34.681079Z"
    },
    "nbgrader": {
     "grade": true,
     "grade_id": "typechecks_v",
     "locked": true,
     "points": "5",
     "schema_version": 1,
     "solution": false
    }
   },
   "outputs": [],
   "source": [
    "## making sure your train_nn() function returns variables as expected\n",
    "assert type(training_accs)==list,\"incorrect return type\"\n",
    "assert type(validation_accs)==list, \"incorrect return type\"\n",
    "assert type(training_costs)==list, \"incorrect return type\"\n",
    "assert type(validation_costs)==list,\"incorrect return type\"\n",
    "# assert type(test_predictions[0])==type(training_accs[0])==type(validation_accs[0])==type(training_costs[0])==type(validation_costs[0])==np.float64, \"incorrect return type\"\n",
    "assert len(training_accs)==len(validation_accs)==len(training_costs)==len(validation_costs)==training_epochs,\"incorrect returned lengths\"\n",
    "assert len(test_predictions)==len(test_features),\"incorrect returned lengths\""
   ]
  },
  {
   "cell_type": "markdown",
   "metadata": {
    "nbgrader": {
     "grade": false,
     "grade_id": "cell-4ed33d0856316a08",
     "locked": true,
     "schema_version": 1,
     "solution": false
    }
   },
   "source": [
    "### Analyzing cost and accuracy trends vs number of epochs"
   ]
  },
  {
   "cell_type": "code",
   "execution_count": 137,
   "metadata": {
    "ExecuteTime": {
     "end_time": "2018-08-01T17:59:38.595140Z",
     "start_time": "2018-08-01T17:59:38.589746Z"
    },
    "nbgrader": {
     "grade": false,
     "grade_id": "cell-450747d7f0431e00",
     "locked": true,
     "schema_version": 1,
     "solution": false
    },
    "scrolled": false
   },
   "outputs": [],
   "source": [
    "def plot_cost_vs_epochs(training_costs, validation_costs):\n",
    "    plt.title(\"cost vs epochs\")\n",
    "    plt.plot(training_costs)\n",
    "    plt.plot(validation_costs)\n",
    "    plt.legend([\"training\",\"validation\"])"
   ]
  },
  {
   "cell_type": "code",
   "execution_count": 138,
   "metadata": {
    "ExecuteTime": {
     "end_time": "2018-08-01T17:59:39.457054Z",
     "start_time": "2018-08-01T17:59:39.451992Z"
    },
    "nbgrader": {
     "grade": false,
     "grade_id": "cell-78d0e31f3ed4005e",
     "locked": true,
     "schema_version": 1,
     "solution": false
    },
    "scrolled": true
   },
   "outputs": [],
   "source": [
    "def plot_acc_vs_epochs(training_acc, validation_acc):\n",
    "    plt.title(\"accuracy vs epochs\")\n",
    "    plt.plot(training_acc)\n",
    "    plt.plot(validation_acc)\n",
    "    plt.legend([\"training\",\"validation\"])"
   ]
  },
  {
   "cell_type": "code",
   "execution_count": 139,
   "metadata": {
    "ExecuteTime": {
     "end_time": "2018-08-01T17:59:42.593384Z",
     "start_time": "2018-08-01T17:59:42.585724Z"
    },
    "nbgrader": {
     "grade": false,
     "grade_id": "cell-5f2c5d57928f7a69",
     "locked": true,
     "schema_version": 1,
     "solution": false
    }
   },
   "outputs": [],
   "source": [
    "\n",
    "def plots(training_costs, validation_costs, training_accs, validation_accs):\n",
    "    \n",
    "    fig = plt.figure(figsize=(20,10))\n",
    "    \n",
    "    plt.subplot(1,2,1)\n",
    "    plot_cost_vs_epochs(training_costs, validation_costs)\n",
    "    plt.subplot(1,2,2)\n",
    "    plot_acc_vs_epochs(training_accs, validation_accs)"
   ]
  },
  {
   "cell_type": "code",
   "execution_count": 140,
   "metadata": {
    "ExecuteTime": {
     "end_time": "2018-08-01T17:59:45.358410Z",
     "start_time": "2018-08-01T17:59:44.840517Z"
    }
   },
   "outputs": [
    {
     "data": {
      "image/png": "[encoded data removed]",
      "text/plain": [
       "<Figure size 1440x720 with 2 Axes>"
      ]
     },
     "metadata": {
      "needs_background": "light"
     },
     "output_type": "display_data"
    }
   ],
   "source": [
    "plots(training_costs, validation_costs, training_accs, validation_accs)"
   ]
  },
  {
   "cell_type": "markdown",
   "metadata": {
    "nbgrader": {
     "grade": false,
     "grade_id": "cell-7e48102290dfc483",
     "locked": true,
     "schema_version": 1,
     "solution": false
    }
   },
   "source": [
    "### Scoring Your Test Predictions\n",
    "\n",
    "The following code saves your test predictions locally in the same directory.\n",
    "\n",
    "It is required in order to give you a grade based on your network's performance."
   ]
  },
  {
   "cell_type": "code",
   "execution_count": 43,
   "metadata": {
    "ExecuteTime": {
     "end_time": "2018-08-01T17:59:49.453567Z",
     "start_time": "2018-08-01T17:59:48.823066Z"
    },
    "nbgrader": {
     "grade": false,
     "grade_id": "cell-9130fc95b3adda93",
     "locked": true,
     "schema_version": 1,
     "solution": false
    }
   },
   "outputs": [],
   "source": [
    "import pickle\n",
    "def save_test_predictions(test_predictions):\n",
    "     with open(cfg['output_predictions_pickle_path'], 'wb') as f:\n",
    "        pickle.dump(test_predictions, f)\n",
    "save_test_predictions(test_predictions)"
   ]
  },
  {
   "cell_type": "code",
   "execution_count": null,
   "metadata": {
    "nbgrader": {
     "grade": true,
     "grade_id": "threshold1_h",
     "locked": true,
     "points": "5",
     "schema_version": 1,
     "solution": false
    },
    "scrolled": true
   },
   "outputs": [],
   "source": [
    "#Hidden tests here\n",
    "#\n",
    "# AUTOGRADER TEST - DO NOT REMOVE\n",
    "#\n"
   ]
  },
  {
   "cell_type": "code",
   "execution_count": null,
   "metadata": {
    "nbgrader": {
     "grade": true,
     "grade_id": "threshold2_h",
     "locked": true,
     "points": "10",
     "schema_version": 1,
     "solution": false
    }
   },
   "outputs": [],
   "source": [
    "#Hidden tests here\n",
    "#\n",
    "# AUTOGRADER TEST - DO NOT REMOVE\n",
    "#\n"
   ]
  },
  {
   "cell_type": "code",
   "execution_count": null,
   "metadata": {
    "nbgrader": {
     "grade": true,
     "grade_id": "threshold3_h",
     "locked": true,
     "points": "15",
     "schema_version": 1,
     "solution": false
    }
   },
   "outputs": [],
   "source": [
    "#Hidden tests here\n",
    "#\n",
    "# AUTOGRADER TEST - DO NOT REMOVE\n",
    "#\n"
   ]
  },
  {
   "cell_type": "code",
   "execution_count": null,
   "metadata": {
    "nbgrader": {
     "grade": true,
     "grade_id": "threshold4_h",
     "locked": true,
     "points": "20",
     "schema_version": 1,
     "solution": false
    },
    "scrolled": true
   },
   "outputs": [],
   "source": [
    "#Hidden tests here\n",
    "#\n",
    "# AUTOGRADER TEST - DO NOT REMOVE\n",
    "#\n"
   ]
  }
 ],
 "metadata": {
  "celltoolbar": "Edit Metadata",
  "kernelspec": {
   "display_name": "Python 3",
   "language": "python",
   "name": "python3"
  },
  "language_info": {
   "codemirror_mode": {
    "name": "ipython",
    "version": 3
   },
   "file_extension": ".py",
   "mimetype": "text/x-python",
   "name": "python",
   "nbconvert_exporter": "python",
   "pygments_lexer": "ipython3",
   "version": "3.6.6"
  },
  "toc": {
   "base_numbering": 1,
   "nav_menu": [],
   "number_sections": true,
   "sideBar": true,
   "skip_h1_title": false,
   "title_cell": "Table of Contents",
   "title_sidebar": "Contents",
   "toc_cell": false,
   "toc_position": [],
   "toc_section_display": true,
   "toc_window_display": false
  },
  "varInspector": {
   "cols": {
    "lenName": 16,
    "lenType": 16,
    "lenVar": 40
   },
   "kernels_config": {
    "python": {
     "delete_cmd_postfix": "",
     "delete_cmd_prefix": "del ",
     "library": "var_list.py",
     "varRefreshCmd": "print(var_dic_list())"
    },
    "r": {
     "delete_cmd_postfix": ") ",
     "delete_cmd_prefix": "rm(",
     "library": "var_list.r",
     "varRefreshCmd": "cat(var_dic_list()) "
    }
   },
   "types_to_exclude": [
    "module",
    "function",
    "builtin_function_or_method",
    "instance",
    "_Feature"
   ],
   "window_display": false
  }
 },
 "nbformat": 4,
 "nbformat_minor": 2
}
